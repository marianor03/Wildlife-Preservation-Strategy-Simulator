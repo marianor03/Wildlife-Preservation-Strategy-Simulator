{
 "cells": [
  {
   "cell_type": "code",
   "execution_count": null,
   "id": "06fe5ced",
   "metadata": {},
   "outputs": [],
   "source": [
    "import random  # Import the random module for coin flips and AI decision-making"
   ]
  },
  {
   "cell_type": "code",
   "execution_count": null,
   "id": "ad2822d5",
   "metadata": {},
   "outputs": [],
   "source": [
    "# Function to create an empty 3x3 board\n",
    "def create_board():\n",
    "    return [[' ' for _ in range(3)] for _ in range(3)]  # Create a list of 3 lists, each with 3 spaces"
   ]
  },
  {
   "cell_type": "code",
   "execution_count": null,
   "id": "844cbb7d",
   "metadata": {},
   "outputs": [],
   "source": [
    "# Function to print the board in a nice grid format\n",
    "def print_board(board):\n",
    "    print(\"\\n    0   1   2\")  # Print column headers\n",
    "    print(\"  +---+---+---+\")  # Top border\n",
    "    for i, row in enumerate(board):  # Loop through each row with its index\n",
    "        row_str = f\"{i} | \" + \" | \".join(row) + \" |\"  # Format each row with vertical dividers\n",
    "        print(row_str)  # Print the formatted row\n",
    "        print(\"  +---+---+---+\")  # Print the row divider"
   ]
  },
  {
   "cell_type": "code",
   "execution_count": null,
   "id": "cb66f63b",
   "metadata": {},
   "outputs": [],
   "source": [
    "# Function to allow the player to make a move\n",
    "def player_move(board, row, col):\n",
    "    # Check if move is within bounds and the cell is empty\n",
    "    if 0 <= row < 3 and 0 <= col < 3 and board[row][col] == ' ':\n",
    "        board[row][col] = 'X'  # Place 'X' for conservationist\n",
    "        return True  # Valid move\n",
    "    return False  # Invalid move"
   ]
  },
  {
   "cell_type": "code",
   "execution_count": null,
   "id": "17d5a06e",
   "metadata": {},
   "outputs": [],
   "source": [
    "# Function to check if a player has won\n",
    "def check_winner(board, player):\n",
    "    # Check rows and columns\n",
    "    for i in range(3):\n",
    "        if all([board[i][j] == player for j in range(3)]) or all([board[j][i] == player for j in range(3)]):\n",
    "            return True  # Winning row or column\n",
    "    # Check diagonals\n",
    "    if all([board[i][i] == player for i in range(3)]) or all([board[i][2 - i] == player for i in range(3)]):\n",
    "        return True  # Winning diagonal\n",
    "    return False  # No winner yet\n"
   ]
  },
  {
   "cell_type": "code",
   "execution_count": null,
   "id": "c6b33974",
   "metadata": {},
   "outputs": [],
   "source": [
    "# Function to check if the board is full (tie)\n",
    "def is_board_full(board):\n",
    "    return all(cell != ' ' for row in board for cell in row)  # Check every cell"
   ]
  },
  {
   "cell_type": "code",
   "execution_count": null,
   "id": "f1b42c53",
   "metadata": {},
   "outputs": [],
   "source": [
    "# Minimax algorithm to determine the best AI move\n",
    "def minimax(board, depth, is_maximizing):\n",
    "    if check_winner(board, 'O'):  # AI wins\n",
    "        return 1\n",
    "    elif check_winner(board, 'X'):  # Player wins\n",
    "        return -1\n",
    "    elif is_board_full(board):  # Tie\n",
    "        return 0\n",
    "\n",
    "    if is_maximizing:  # AI's turn\n",
    "        best_score = -float('inf')  # Initialize best score to a very low number\n",
    "        for i in range(3):  # Loop over all cells\n",
    "            for j in range(3):\n",
    "                if board[i][j] == ' ':  # Check if cell is empty\n",
    "                    board[i][j] = 'O'  # Try move\n",
    "                    score = minimax(board, depth + 1, False)  # Recursively check next move\n",
    "                    board[i][j] = ' '  # Undo move\n",
    "                    best_score = max(score, best_score)  # Choose the highest score\n",
    "        return best_score\n",
    "    else:  # Player's turn\n",
    "        best_score = float('inf')  # Initialize best score to a very high number\n",
    "        for i in range(3):\n",
    "            for j in range(3):\n",
    "                if board[i][j] == ' ':\n",
    "                    board[i][j] = 'X'  # Try move\n",
    "                    score = minimax(board, depth + 1, True)  # Recursively check next move\n",
    "                    board[i][j] = ' '  # Undo move\n",
    "                    best_score = min(score, best_score)  # Choose the lowest score\n",
    "        return best_score\n"
   ]
  },
  {
   "cell_type": "code",
   "execution_count": null,
   "id": "4a95891f",
   "metadata": {},
   "outputs": [],
   "source": [
    "# Function for AI to choose its move based on minimax\n",
    "def best_ai_move(board):\n",
    "    best_score = -float('inf')  # Initialize best score\n",
    "    move = None  # Store the best move\n",
    "    for i in range(3):  # Loop over all cells\n",
    "        for j in range(3):\n",
    "            if board[i][j] == ' ':  # If cell is empty\n",
    "                board[i][j] = 'O'  # Try the move\n",
    "                score = minimax(board, 0, False)  # Evaluate move\n",
    "                board[i][j] = ' '  # Undo move\n",
    "                if score > best_score:  # Check if this move is better\n",
    "                    best_score = score\n",
    "                    move = (i, j)  # Save best move\n",
    "    if move:  # If a move was found\n",
    "        board[move[0]][move[1]] = 'O'  # Make the best move\n"
   ]
  },
  {
   "cell_type": "code",
   "execution_count": null,
   "id": "cc36cffe",
   "metadata": {},
   "outputs": [],
   "source": [
    "# Function to flip a coin and let player call it\n",
    "def coin_flip_input():\n",
    "    while True:\n",
    "        user_choice = input(\"🪙 Call the coin flip! Type 'heads' or 'tails': \").strip().lower()  # Ask user\n",
    "        if user_choice in [\"heads\", \"tails\"]:\n",
    "            break  # Valid input\n",
    "        else:\n",
    "            print(\"❗ Invalid choice. Please type 'heads' or 'tails'.\")  # Ask again\n",
    "\n",
    "    flip_result = random.choice([\"heads\", \"tails\"])  # Simulate coin flip\n",
    "    print(f\"🪙 The coin landed on: {flip_result}\")  # Show result\n",
    "\n",
    "    if user_choice == flip_result:\n",
    "        print(\"🎉 You won the toss! Conservationist goes first.\")  # Player starts\n",
    "        return \"player\"\n",
    "    else:\n",
    "        print(\"💥 Environmental threat won the toss and goes first.\")  # AI starts\n",
    "        return \"ai\"\n"
   ]
  },
  {
   "cell_type": "code",
   "execution_count": null,
   "id": "3a766b71",
   "metadata": {},
   "outputs": [],
   "source": [
    "# Function to show game introduction and rules\n",
    "def show_intro():\n",
    "    print(\"🌿 Welcome to the Wildlife Preservation Strategy Simulator! 🌿\\n\")\n",
    "    print(\"You are a conservationist protecting biodiversity across 9 zones.\")\n",
    "    print(\"Each move (X) is a conservation action like planting trees.\")\n",
    "    print(\"The AI (O) represents threats like pollution or urban development.\")\n",
    "    print(\"Your goal: align 3 conservation zones before threats do.\\n\")\n"
   ]
  },
  {
   "cell_type": "code",
   "execution_count": null,
   "id": "d86e38a1",
   "metadata": {},
   "outputs": [],
   "source": [
    "# Main game function\n",
    "def play_game():\n",
    "    show_intro()  # Print rules\n",
    "    board = create_board()  # Initialize board\n",
    "    print_board(board)  # Show starting board\n",
    "\n",
    "    turn = coin_flip_input()  # Decide who starts\n",
    "\n",
    "    while True:  # Game loop\n",
    "        if turn == \"player\":\n",
    "            try:\n",
    "                row, col = map(int, input(\"🧑‍🌾 Enter your move (row and column, e.g. 1 2): \").split())  # Get move\n",
    "            except ValueError:\n",
    "                print(\"❗ Please enter two numbers separated by a space.\")\n",
    "                continue  # Skip to next loop\n",
    "\n",
    "            if not player_move(board, row, col):  # If invalid\n",
    "                print(\"❌ Invalid move. Try again.\")\n",
    "                continue  # Ask again\n",
    "\n",
    "            print(\"\\n🧑‍🌾 Conservationist's move:\")\n",
    "            print_board(board)  # Show updated board\n",
    "\n",
    "            if check_winner(board, 'X'):  # Check for win\n",
    "                print(\"\\n🎉 Success! Biodiversity preserved.\")\n",
    "                break  # End game\n",
    "            if is_board_full(board):  # Check for tie\n",
    "                print(\"\\n🤝 It's a tie. Mixed results.\")\n",
    "                break  # End game\n",
    "\n",
    "            turn = \"ai\"  # Switch turn\n",
    "\n",
    "        else:\n",
    "            best_ai_move(board)  # AI makes move\n",
    "            print(\"\\n⚠️ Environmental threat responds:\")\n",
    "            print_board(board)\n",
    "\n",
    "            if check_winner(board, 'O'):  # Check if AI won\n",
    "                print(\"\\n💥 Oh no! Environmental threats dominated.\")\n",
    "                break\n",
    "            if is_board_full(board):  # Check for tie\n",
    "                print(\"\\n🤝 It's a tie. Mixed results.\")\n",
    "                break\n",
    "\n",
    "            turn = \"player\"  # Switch turn"
   ]
  },
  {
   "cell_type": "code",
   "execution_count": null,
   "id": "6a507dc4",
   "metadata": {},
   "outputs": [],
   "source": [
    "# Start the simulator\n",
    "if __name__ == \"__main__\":\n",
    "    play_game()"
   ]
  }
 ],
 "metadata": {
  "kernelspec": {
   "display_name": "Python 3 (ipykernel)",
   "language": "python",
   "name": "python3"
  },
  "language_info": {
   "codemirror_mode": {
    "name": "ipython",
    "version": 3
   },
   "file_extension": ".py",
   "mimetype": "text/x-python",
   "name": "python",
   "nbconvert_exporter": "python",
   "pygments_lexer": "ipython3",
   "version": "3.11.5"
  }
 },
 "nbformat": 4,
 "nbformat_minor": 5
}
